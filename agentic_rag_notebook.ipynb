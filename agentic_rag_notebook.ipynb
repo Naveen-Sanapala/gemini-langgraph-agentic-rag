{
 "cells": [
  {
   "cell_type": "code",
   "execution_count": 1,
   "id": "f92f3563",
   "metadata": {},
   "outputs": [
    {
     "name": "stdout",
     "output_type": "stream",
     "text": [
      "hello world\n"
     ]
    }
   ],
   "source": [
    "print(\"hello world\")"
   ]
  },
  {
   "cell_type": "code",
   "execution_count": 5,
   "id": "2993329a",
   "metadata": {},
   "outputs": [
    {
     "name": "stderr",
     "output_type": "stream",
     "text": [
      "E0000 00:00:1759678088.834000  173915 alts_credentials.cc:93] ALTS creds ignored. Not running on GCP and untrusted ALTS is not enabled.\n"
     ]
    },
    {
     "data": {
      "text/plain": [
       "'The capital of India is **New Delhi**.'"
      ]
     },
     "execution_count": 5,
     "metadata": {},
     "output_type": "execute_result"
    }
   ],
   "source": [
    "#llm\n",
    "from langchain_google_genai import ChatGoogleGenerativeAI\n",
    "import os\n",
    "from dotenv import load_dotenv\n",
    "\n",
    "# Load variables from .env into environment\n",
    "load_dotenv()\n",
    "\n",
    "# Access them\n",
    "google_api_key = os.getenv(\"GOOGLE_API_KEY\")\n",
    "def llm_load():\n",
    "    # Initialize chat LLM using API key\n",
    "    try:\n",
    "        llm = ChatGoogleGenerativeAI(\n",
    "            google_api_key=google_api_key,\n",
    "            model=\"gemini-2.5-flash-lite\",  # Chat-focused model\n",
    "            temperature=0.7\n",
    "        )\n",
    "    except Exception as e:\n",
    "        print(e)\n",
    "        llm=None\n",
    "    return llm\n",
    "llm=llm_load()\n",
    "\n",
    "check_llm=llm.invoke(\"what is the capital of India\")\n",
    "check_llm.content\n"
   ]
  },
  {
   "cell_type": "code",
   "execution_count": 7,
   "id": "8fe512af",
   "metadata": {},
   "outputs": [],
   "source": [
    "#embeddings\n",
    "from langchain_google_genai import GoogleGenerativeAIEmbeddings\n",
    "import numpy as np\n",
    "\n",
    "class Embedder:\n",
    "    def __init__(self):\n",
    "        self.model= GoogleGenerativeAIEmbeddings(\n",
    "        google_api_key=google_api_key,\n",
    "        model =\"models/text-embedding-004\"\n",
    "        )\n",
    "\n",
    "    def embed_texts(self,texts):\n",
    "        embs =self.model.embed_documents(texts)\n",
    "        #print(len(embs))\n",
    "        return np.array(embs,dtype=np.float32)"
   ]
  },
  {
   "cell_type": "code",
   "execution_count": 8,
   "id": "a2090e51",
   "metadata": {},
   "outputs": [
    {
     "name": "stdout",
     "output_type": "stream",
     "text": [
      "🚀 Starting Pinecone setup and indexing...\n",
      "✅ Pinecone index already exists: self-critique-index\n"
     ]
    },
    {
     "name": "stderr",
     "output_type": "stream",
     "text": [
      "E0000 00:00:1759678212.854133  173915 alts_credentials.cc:93] ALTS creds ignored. Not running on GCP and untrusted ALTS is not enabled.\n",
      "E0000 00:00:1759678212.857967  173915 alts_credentials.cc:93] ALTS creds ignored. Not running on GCP and untrusted ALTS is not enabled.\n"
     ]
    },
    {
     "name": "stdout",
     "output_type": "stream",
     "text": [
      "✅ Indexed 30 documents into Pinecone\n"
     ]
    }
   ],
   "source": [
    "#retriever\n",
    "import os\n",
    "import json\n",
    "from dotenv import load_dotenv\n",
    "from pinecone import Pinecone, ServerlessSpec\n",
    "\n",
    "\n",
    "load_dotenv()\n",
    "\n",
    "PINECONE_API_KEY = os.getenv(\"PINECONE_API_KEY\")\n",
    "INDEX_NAME = os.getenv(\"INDEX_NAME\", \"self-critique-index\")\n",
    "\n",
    "def init_pinecone():\n",
    "    \"\"\"Initialize Pinecone client and create index if not exists (Serverless).\"\"\"\n",
    "    pc = Pinecone(api_key=PINECONE_API_KEY)\n",
    "    existing_indexes = [idx.name for idx in pc.list_indexes()]\n",
    "\n",
    "    if INDEX_NAME not in existing_indexes:\n",
    "        print(f\"🪶 Creating Pinecone index: {INDEX_NAME}\")\n",
    "        pc.create_index(\n",
    "            name=INDEX_NAME,\n",
    "            dimension=768,\n",
    "            metric=\"cosine\",\n",
    "            spec=ServerlessSpec(cloud=\"aws\", region=\"us-east-1\")\n",
    "        )\n",
    "    else:\n",
    "        print(f\"✅ Pinecone index already exists: {INDEX_NAME}\")\n",
    "\n",
    "    return pc.Index(INDEX_NAME)\n",
    "\n",
    "def build_index():\n",
    "    \"\"\"Load dataset, create embeddings with Gemini, and upsert into Pinecone.\"\"\"\n",
    "    index = init_pinecone()\n",
    "    embedder = Embedder()\n",
    "\n",
    "    with open(\"self_critique_loop_dataset.json\") as f:\n",
    "        data = json.load(f)[:30]\n",
    "\n",
    "    texts = [d[\"answer_snippet\"] for d in data]\n",
    "    ids = [d[\"doc_id\"] for d in data]\n",
    "    vectors = embedder.embed_texts(texts)\n",
    "\n",
    "    to_upsert = [\n",
    "        {\"id\": ids[i], \"values\": vectors[i].tolist(), \"metadata\": {\"question\": data[i][\"question\"]}}\n",
    "        for i in range(len(ids))\n",
    "    ]\n",
    "\n",
    "    index.upsert(vectors=to_upsert)\n",
    "    print(f\"✅ Indexed {len(ids)} documents into Pinecone\")\n",
    "\n",
    "def pinecone_query(query: str, top_k: int = 5):\n",
    "    \"\"\"Query top-k snippets from Pinecone.\"\"\"\n",
    "    index = init_pinecone()\n",
    "    embedder = Embedder()\n",
    "    query_vec = embedder.embed_texts([query])[0].tolist()\n",
    "\n",
    "    res = index.query(vector=query_vec, top_k=top_k, include_metadata=True)\n",
    "    snippets = [f\"{match['metadata']['question']} [KB{match['id']}]\" for match in res['matches']]\n",
    "    return snippets\n",
    "\n",
    "if __name__ == \"__main__\":\n",
    "    print(\"🚀 Starting Pinecone setup and indexing...\")\n",
    "    build_index()"
   ]
  },
  {
   "cell_type": "code",
   "execution_count": 37,
   "id": "88b3153d",
   "metadata": {},
   "outputs": [],
   "source": [
    "#graph\n",
    "from typing_extensions import TypedDict\n",
    "from langgraph.graph import StateGraph, START, END\n",
    "from llm_utils import llm\n",
    "from retriever import pinecone_query\n",
    "\n",
    "class State(TypedDict):\n",
    "    user_query: str\n",
    "    snippets: list[str]\n",
    "    answer: str\n",
    "    critique: str\n",
    "    missing_keywords: str\n",
    "\n",
    "def retrieve_kb(state: State):\n",
    "    snippets = pinecone_query(state[\"user_query\"], top_k=5)\n",
    "    return {\"snippets\": snippets}\n",
    "\n",
    "def generate_answer(state: State):\n",
    "    context = \"\\n\".join(state[\"snippets\"])\n",
    "    prompt = f\"\"\"Answer the question: {state['user_query']}\\nUsing these KB snippets:\\n{context}.  \n",
    "Always cite snippets [KBxxx]\n",
    " \"\"\"\n",
    "    print(\"prompt\",prompt)\n",
    "    res = llm.invoke(prompt)\n",
    "    return {\"answer\": res.content}\n",
    "\n",
    "def critique_answer(state: State):\n",
    "    prompt = f\"\"\"Critique this answer for completeness:\n",
    "Question: {state['user_query']}\n",
    "Answer: {state['answer']}\n",
    "Respond only with:\n",
    "- COMPLETE\n",
    "- REFINE: <missing keywords>\"\"\"\n",
    "    res = llm.invoke(prompt)\n",
    "    text = res.content.strip()\n",
    "    #print(\"critique content\",text)\n",
    "    if text.startswith(\"REFINE\"):\n",
    "        return {\"critique\": \"REFINE\", \"missing_keywords\": text.split(\":\", 1)[1].strip()}\n",
    "    return {\"critique\": \"COMPLETE\"}\n",
    "\n",
    "def refine_answer(state: State):\n",
    "    new_query = f\"{state['user_query']} {state['missing_keywords']}\"\n",
    "    new_snippets = pinecone_query(new_query, top_k=1)\n",
    "    context = \"\\n\".join(state[\"snippets\"] + new_snippets)\n",
    "    prompt = f\"Refine your answer to: {state['user_query']}\\nUsing this info:\\n{context} and Always cite snippets [KBxxx]\"\n",
    "    res = llm.invoke(prompt)\n",
    "    print(\"refine_answer\",res.content)\n",
    "    return {\"answer\": res.content}\n",
    "\n",
    "def build_graph():\n",
    "    builder = StateGraph(State)\n",
    "    builder.add_node(\"retrieve_kb\", retrieve_kb)\n",
    "    builder.add_node(\"generate_answer\", generate_answer)\n",
    "    builder.add_node(\"critique_answer\", critique_answer)\n",
    "    builder.add_node(\"refine_answer\", refine_answer)\n",
    "\n",
    "    builder.add_edge(START, \"retrieve_kb\")\n",
    "    builder.add_edge(\"retrieve_kb\", \"generate_answer\")\n",
    "    builder.add_edge(\"generate_answer\", \"critique_answer\")\n",
    "\n",
    "    def decide(state):\n",
    "        return state[\"critique\"]\n",
    "\n",
    "    builder.add_conditional_edges(\n",
    "        \"critique_answer\",\n",
    "        decide,\n",
    "        {\"COMPLETE\": END, \"REFINE\": \"refine_answer\"}\n",
    "    )\n",
    "    builder.add_edge(\"refine_answer\", END)\n",
    "    return builder.compile()\n"
   ]
  },
  {
   "cell_type": "code",
   "execution_count": 38,
   "id": "96b5434c",
   "metadata": {},
   "outputs": [
    {
     "name": "stdout",
     "output_type": "stream",
     "text": [
      "✅ Pinecone index already exists: self-critique-index\n"
     ]
    },
    {
     "name": "stderr",
     "output_type": "stream",
     "text": [
      "E0000 00:00:1759680624.708402  173915 alts_credentials.cc:93] ALTS creds ignored. Not running on GCP and untrusted ALTS is not enabled.\n",
      "E0000 00:00:1759680624.792053  173915 alts_credentials.cc:93] ALTS creds ignored. Not running on GCP and untrusted ALTS is not enabled.\n"
     ]
    },
    {
     "name": "stdout",
     "output_type": "stream",
     "text": [
      "prompt Answer the question: What are best practices for caching?\n",
      "Using these KB snippets:\n",
      "What are best practices for caching? [KBKB003]\n",
      "What are best practices for caching? [KBKB023]\n",
      "What are best practices for caching? [KBKB013]\n",
      "What are best practices for performance tuning? [KBKB012]\n",
      "What are best practices for performance tuning? [KBKB002].  \n",
      "Always cite snippets [KBxxx]\n",
      " \n",
      "✅ Pinecone index already exists: self-critique-index\n"
     ]
    },
    {
     "name": "stderr",
     "output_type": "stream",
     "text": [
      "E0000 00:00:1759680632.351837  173915 alts_credentials.cc:93] ALTS creds ignored. Not running on GCP and untrusted ALTS is not enabled.\n",
      "E0000 00:00:1759680632.353691  173915 alts_credentials.cc:93] ALTS creds ignored. Not running on GCP and untrusted ALTS is not enabled.\n"
     ]
    },
    {
     "name": "stdout",
     "output_type": "stream",
     "text": [
      "refine_answer Based on the provided KB articles, here are the best practices for caching:\n",
      "\n",
      "**Core Caching Principles:**\n",
      "\n",
      "*   **Identify Frequently Accessed Data:** Cache data that is read often but changes infrequently. This is the most impactful use of caching. [KBKB003]\n",
      "*   **Understand Data Volatility:** Cache items that have a low rate of change. If data is constantly updated, caching it can lead to serving stale information and negate performance benefits. [KBKB003]\n",
      "*   **Determine Cache Scope:** Decide whether caching is needed at the application level, database level, or browser level. The appropriate scope depends on the specific performance bottleneck. [KBKB003]\n",
      "*   **Implement Cache Invalidation Strategically:** Have a clear strategy for removing or updating cached data when the underlying data changes. This is crucial to prevent serving stale information. [KBKB003]\n",
      "*   **Monitor Cache Performance:** Regularly track cache hit rates, miss rates, and memory usage. This helps identify inefficiencies and opportunities for optimization. [KBKB013]\n",
      "*   **Consider Cache Size and Eviction Policies:** Determine an appropriate cache size and select an eviction policy (e.g., Least Recently Used - LRU) that best suits your application's access patterns. [KBKB013]\n",
      "\n",
      "**Performance Tuning and Caching Synergy:**\n",
      "\n",
      "*   **Caching is a Key Performance Tuning Technique:** Caching is explicitly identified as a best practice for performance tuning. [KBKB012], [KBKB002]\n",
      "*   **Reduce Database Load:** By serving frequently requested data from the cache, you significantly reduce the load on your database, which is often a performance bottleneck. [KBKB002]\n",
      "*   **Improve Response Times:** Caching directly contributes to faster response times for users by avoiding expensive data retrieval operations. [KBKB002]\n",
      "\n",
      "**Specific Considerations:**\n",
      "\n",
      "*   **Cache at Different Layers:** Explore caching at various layers of your application stack, including the database, application server, and even the client-side (browser caching). [KBKB023]\n",
      "*   **Avoid Over-Caching:** While beneficial, over-caching can lead to increased memory consumption and complexity. Ensure your caching strategy is targeted and efficient. [KBKB003]\n",
      "\n",
      "By adhering to these best practices, you can effectively leverage caching to improve the performance and scalability of your applications.\n",
      "Response from bot:\n",
      "\n",
      "\n",
      "\n",
      "Based on the provided KB articles, here are the best practices for caching:\n",
      "\n",
      "**Core Caching Principles:**\n",
      "\n",
      "*   **Identify Frequently Accessed Data:** Cache data that is read often but changes infrequently. This is the most impactful use of caching. [KBKB003]\n",
      "*   **Understand Data Volatility:** Cache items that have a low rate of change. If data is constantly updated, caching it can lead to serving stale information and negate performance benefits. [KBKB003]\n",
      "*   **Determine Cache Scope:** Decide whether caching is needed at the application level, database level, or browser level. The appropriate scope depends on the specific performance bottleneck. [KBKB003]\n",
      "*   **Implement Cache Invalidation Strategically:** Have a clear strategy for removing or updating cached data when the underlying data changes. This is crucial to prevent serving stale information. [KBKB003]\n",
      "*   **Monitor Cache Performance:** Regularly track cache hit rates, miss rates, and memory usage. This helps identify inefficiencies and opportunities for optimization. [KBKB013]\n",
      "*   **Consider Cache Size and Eviction Policies:** Determine an appropriate cache size and select an eviction policy (e.g., Least Recently Used - LRU) that best suits your application's access patterns. [KBKB013]\n",
      "\n",
      "**Performance Tuning and Caching Synergy:**\n",
      "\n",
      "*   **Caching is a Key Performance Tuning Technique:** Caching is explicitly identified as a best practice for performance tuning. [KBKB012], [KBKB002]\n",
      "*   **Reduce Database Load:** By serving frequently requested data from the cache, you significantly reduce the load on your database, which is often a performance bottleneck. [KBKB002]\n",
      "*   **Improve Response Times:** Caching directly contributes to faster response times for users by avoiding expensive data retrieval operations. [KBKB002]\n",
      "\n",
      "**Specific Considerations:**\n",
      "\n",
      "*   **Cache at Different Layers:** Explore caching at various layers of your application stack, including the database, application server, and even the client-side (browser caching). [KBKB023]\n",
      "*   **Avoid Over-Caching:** While beneficial, over-caching can lead to increased memory consumption and complexity. Ensure your caching strategy is targeted and efficient. [KBKB003]\n",
      "\n",
      "By adhering to these best practices, you can effectively leverage caching to improve the performance and scalability of your applications.\n"
     ]
    }
   ],
   "source": [
    "graph= build_graph()\n",
    "query= \"What are best practices for caching?\"\n",
    "result = graph.invoke({\"user_query\": query})\n",
    "print(\"Response from bot:\")\n",
    "print(\"\\n\\n\")\n",
    "print(result['answer'])"
   ]
  },
  {
   "cell_type": "code",
   "execution_count": 39,
   "id": "49208d3e",
   "metadata": {},
   "outputs": [
    {
     "name": "stdout",
     "output_type": "stream",
     "text": [
      "✅ Pinecone index already exists: self-critique-index\n"
     ]
    },
    {
     "name": "stderr",
     "output_type": "stream",
     "text": [
      "E0000 00:00:1759680638.517292  173915 alts_credentials.cc:93] ALTS creds ignored. Not running on GCP and untrusted ALTS is not enabled.\n",
      "E0000 00:00:1759680638.518113  173915 alts_credentials.cc:93] ALTS creds ignored. Not running on GCP and untrusted ALTS is not enabled.\n"
     ]
    },
    {
     "name": "stdout",
     "output_type": "stream",
     "text": [
      "prompt Answer the question: How should I set up CI/CD pipelines?\n",
      "Using these KB snippets:\n",
      "What are best practices for CI/CD? [KBKB007]\n",
      "What are best practices for CI/CD? [KBKB027]\n",
      "What are best practices for CI/CD? [KBKB017]\n",
      "What are best practices for unit testing? [KBKB016]\n",
      "What are best practices for unit testing? [KBKB006].  \n",
      "Always cite snippets [KBxxx]\n",
      " \n",
      "✅ Pinecone index already exists: self-critique-index\n"
     ]
    },
    {
     "name": "stderr",
     "output_type": "stream",
     "text": [
      "E0000 00:00:1759680646.453074  173915 alts_credentials.cc:93] ALTS creds ignored. Not running on GCP and untrusted ALTS is not enabled.\n",
      "E0000 00:00:1759680646.455763  173915 alts_credentials.cc:93] ALTS creds ignored. Not running on GCP and untrusted ALTS is not enabled.\n"
     ]
    },
    {
     "name": "stdout",
     "output_type": "stream",
     "text": [
      "refine_answer Setting up effective CI/CD pipelines involves a strategic approach guided by established best practices. Here's a breakdown of how to set them up, drawing from key knowledge base articles:\n",
      "\n",
      "**1. Foundation: Version Control and Continuous Integration**\n",
      "\n",
      "*   **Centralized Version Control:** All code must reside in a robust version control system. This is the bedrock of CI/CD, enabling collaboration, history tracking, and automated builds. [KBKB007]\n",
      "*   **Automated Builds:** Integrate your version control system with an automated build tool. Whenever code is committed, the CI server should automatically trigger a build. This ensures that code is always in a releasable state. [KBKB007]\n",
      "*   **Frequent Commits:** Encourage developers to commit small, frequent changes. This minimizes the risk of merge conflicts and makes it easier to pinpoint the source of issues. [KBKB007]\n",
      "*   **Automated Testing (Unit Tests are Crucial):** Integrate comprehensive automated tests, especially unit tests, into your CI pipeline. Unit tests are essential for verifying individual components of your code and catching bugs early. [KBKB016], [KBKB006]\n",
      "    *   **Best Practices for Unit Testing:** Ensure unit tests are fast, reliable, and cover critical functionalities. They should be run on every commit. [KBKB016], [KBKB006]\n",
      "*   **Fast Feedback:** The CI process should provide rapid feedback to developers. If a build or test fails, developers should be notified immediately so they can address the issue promptly. [KBKB007]\n",
      "\n",
      "**2. Continuous Delivery: Preparing for Release**\n",
      "\n",
      "*   **Automated Deployment to Staging/Testing Environments:** Once the code passes CI, it should be automatically deployed to a staging or testing environment. This allows for further testing and validation in a production-like setting. [KBKB027]\n",
      "*   **Comprehensive Testing in Staging:** Beyond unit tests, execute integration tests, end-to-end tests, and performance tests in the staging environment. This ensures the entire application functions as expected. [KBKB027]\n",
      "*   **Artifact Management:** Store build artifacts (e.g., compiled code, deployable packages) in a repository. This ensures that you have a versioned and traceable artifact for deployment. [KBKB027]\n",
      "\n",
      "**3. Continuous Deployment: Automating the Release to Production**\n",
      "\n",
      "*   **Automated Deployment to Production:** For true continuous deployment, the pipeline should automatically deploy validated code to production after successful testing in staging. This requires a high degree of confidence in your automated testing and rollback strategies. [KBKB027]\n",
      "*   **Rollback Strategy:** Have a well-defined and automated rollback strategy in place. If a deployment to production causes issues, you should be able to quickly revert to a previous stable version. [KBKB027]\n",
      "*   **Monitoring and Alerting:** Implement robust monitoring and alerting for your production environment. This allows you to quickly detect and respond to any issues that may arise after a deployment. [KBKB027]\n",
      "\n",
      "**4. Key CI/CD Principles to Emphasize:**\n",
      "\n",
      "*   **Automation, Automation, Automation:** The core of CI/CD is automating repetitive tasks across the entire software delivery lifecycle. [KBKB007], [KBKB027]\n",
      "*   **Shift Left:** Integrate testing and quality checks as early as possible in the development process. [KBKB016], [KBKB006]\n",
      "*   **Iterative Improvement:** CI/CD pipelines are not static. Continuously review and refine your pipelines based on feedback and evolving needs. [KBKB017]\n",
      "*   **Collaboration:** Foster a culture of collaboration between development and operations teams. [KBKB017]\n",
      "*   **Infrastructure as Code (IaC):** Manage your infrastructure through code. This enables consistent and repeatable environment provisioning. [KBKB017]\n",
      "*   **Security Integration:** Embed security checks (e.g., static code analysis, vulnerability scanning) into your pipeline from the beginning. [KBKB017]\n",
      "\n",
      "**In summary, setting up CI/CD pipelines involves:**\n",
      "\n",
      "1.  **Establishing a robust version control system.**\n",
      "2.  **Automating the build process with frequent commits.**\n",
      "3.  **Integrating comprehensive automated unit tests and other tests.**\n",
      "4.  **Automating deployments to testing and staging environments.**\n",
      "5.  **Optionally, automating deployments to production with strong rollback and monitoring.**\n",
      "6.  **Adhering to best practices like automation, \"shift left,\" and continuous improvement.**\n",
      "Response from bot:\n",
      "\n",
      "\n",
      "\n",
      "Setting up effective CI/CD pipelines involves a strategic approach guided by established best practices. Here's a breakdown of how to set them up, drawing from key knowledge base articles:\n",
      "\n",
      "**1. Foundation: Version Control and Continuous Integration**\n",
      "\n",
      "*   **Centralized Version Control:** All code must reside in a robust version control system. This is the bedrock of CI/CD, enabling collaboration, history tracking, and automated builds. [KBKB007]\n",
      "*   **Automated Builds:** Integrate your version control system with an automated build tool. Whenever code is committed, the CI server should automatically trigger a build. This ensures that code is always in a releasable state. [KBKB007]\n",
      "*   **Frequent Commits:** Encourage developers to commit small, frequent changes. This minimizes the risk of merge conflicts and makes it easier to pinpoint the source of issues. [KBKB007]\n",
      "*   **Automated Testing (Unit Tests are Crucial):** Integrate comprehensive automated tests, especially unit tests, into your CI pipeline. Unit tests are essential for verifying individual components of your code and catching bugs early. [KBKB016], [KBKB006]\n",
      "    *   **Best Practices for Unit Testing:** Ensure unit tests are fast, reliable, and cover critical functionalities. They should be run on every commit. [KBKB016], [KBKB006]\n",
      "*   **Fast Feedback:** The CI process should provide rapid feedback to developers. If a build or test fails, developers should be notified immediately so they can address the issue promptly. [KBKB007]\n",
      "\n",
      "**2. Continuous Delivery: Preparing for Release**\n",
      "\n",
      "*   **Automated Deployment to Staging/Testing Environments:** Once the code passes CI, it should be automatically deployed to a staging or testing environment. This allows for further testing and validation in a production-like setting. [KBKB027]\n",
      "*   **Comprehensive Testing in Staging:** Beyond unit tests, execute integration tests, end-to-end tests, and performance tests in the staging environment. This ensures the entire application functions as expected. [KBKB027]\n",
      "*   **Artifact Management:** Store build artifacts (e.g., compiled code, deployable packages) in a repository. This ensures that you have a versioned and traceable artifact for deployment. [KBKB027]\n",
      "\n",
      "**3. Continuous Deployment: Automating the Release to Production**\n",
      "\n",
      "*   **Automated Deployment to Production:** For true continuous deployment, the pipeline should automatically deploy validated code to production after successful testing in staging. This requires a high degree of confidence in your automated testing and rollback strategies. [KBKB027]\n",
      "*   **Rollback Strategy:** Have a well-defined and automated rollback strategy in place. If a deployment to production causes issues, you should be able to quickly revert to a previous stable version. [KBKB027]\n",
      "*   **Monitoring and Alerting:** Implement robust monitoring and alerting for your production environment. This allows you to quickly detect and respond to any issues that may arise after a deployment. [KBKB027]\n",
      "\n",
      "**4. Key CI/CD Principles to Emphasize:**\n",
      "\n",
      "*   **Automation, Automation, Automation:** The core of CI/CD is automating repetitive tasks across the entire software delivery lifecycle. [KBKB007], [KBKB027]\n",
      "*   **Shift Left:** Integrate testing and quality checks as early as possible in the development process. [KBKB016], [KBKB006]\n",
      "*   **Iterative Improvement:** CI/CD pipelines are not static. Continuously review and refine your pipelines based on feedback and evolving needs. [KBKB017]\n",
      "*   **Collaboration:** Foster a culture of collaboration between development and operations teams. [KBKB017]\n",
      "*   **Infrastructure as Code (IaC):** Manage your infrastructure through code. This enables consistent and repeatable environment provisioning. [KBKB017]\n",
      "*   **Security Integration:** Embed security checks (e.g., static code analysis, vulnerability scanning) into your pipeline from the beginning. [KBKB017]\n",
      "\n",
      "**In summary, setting up CI/CD pipelines involves:**\n",
      "\n",
      "1.  **Establishing a robust version control system.**\n",
      "2.  **Automating the build process with frequent commits.**\n",
      "3.  **Integrating comprehensive automated unit tests and other tests.**\n",
      "4.  **Automating deployments to testing and staging environments.**\n",
      "5.  **Optionally, automating deployments to production with strong rollback and monitoring.**\n",
      "6.  **Adhering to best practices like automation, \"shift left,\" and continuous improvement.**\n"
     ]
    }
   ],
   "source": [
    "query= \"How should I set up CI/CD pipelines?\"\n",
    "result = graph.invoke({\"user_query\": query})\n",
    "print(\"Response from bot:\")\n",
    "print(\"\\n\\n\")\n",
    "print(result['answer'])"
   ]
  },
  {
   "cell_type": "code",
   "execution_count": 40,
   "id": "027a66ca",
   "metadata": {},
   "outputs": [
    {
     "name": "stdout",
     "output_type": "stream",
     "text": [
      "✅ Pinecone index already exists: self-critique-index\n"
     ]
    },
    {
     "name": "stderr",
     "output_type": "stream",
     "text": [
      "E0000 00:00:1759680654.228199  173915 alts_credentials.cc:93] ALTS creds ignored. Not running on GCP and untrusted ALTS is not enabled.\n",
      "E0000 00:00:1759680654.229769  173915 alts_credentials.cc:93] ALTS creds ignored. Not running on GCP and untrusted ALTS is not enabled.\n"
     ]
    },
    {
     "name": "stdout",
     "output_type": "stream",
     "text": [
      "prompt Answer the question: What are performance tuning tips?\n",
      "Using these KB snippets:\n",
      "What are best practices for performance tuning? [KBKB002]\n",
      "What are best practices for performance tuning? [KBKB022]\n",
      "What are best practices for performance tuning? [KBKB012]\n",
      "What are best practices for caching? [KBKB013]\n",
      "What are best practices for caching? [KBKB003].  \n",
      "Always cite snippets [KBxxx]\n",
      " \n",
      "Response from bot:\n",
      "\n",
      "\n",
      "\n",
      "Performance tuning is a multifaceted process that involves optimizing various aspects of a system to improve its speed and efficiency. Based on the provided knowledge base snippets, here are some key performance tuning tips:\n",
      "\n",
      "**General Best Practices for Performance Tuning:**\n",
      "\n",
      "*   **Identify and Address Bottlenecks:** A fundamental principle is to pinpoint the slowest parts of your system, often referred to as bottlenecks, and focus your tuning efforts there [KBKB002, KBKB022, KBKB012]. Without understanding where the performance issues lie, tuning efforts can be misdirected.\n",
      "*   **Measure and Monitor:** Performance tuning is an iterative process that relies on data. Regularly measure and monitor key performance indicators (KPIs) to understand the current state and track the impact of your changes [KBKB002, KBKB022, KBKB012]. This allows for informed decision-making.\n",
      "*   **Optimize Resource Utilization:** Ensure that your system's resources (CPU, memory, disk I/O, network) are being used efficiently. Avoid over-provisioning or under-utilization of these resources [KBKB002, KBKB022].\n",
      "*   **Code Optimization:** Review and optimize your application code. This can involve improving algorithms, reducing redundant operations, and writing more efficient queries [KBKB002, KBKB012].\n",
      "*   **Database Optimization:** For systems with databases, optimizing database performance is crucial. This includes indexing, query tuning, and proper schema design [KBKB002, KBKB012].\n",
      "*   **Configuration Tuning:** Adjusting system and application configurations can have a significant impact on performance. This might involve tuning parameters for web servers, application servers, or operating systems [KBKB002, KBKB012].\n",
      "*   **Load Balancing:** Distribute incoming traffic across multiple servers to prevent any single server from becoming overwhelmed and to improve overall responsiveness [KBKB002].\n",
      "*   **Scalability:** Design your system with scalability in mind, allowing it to handle increasing loads by adding more resources or instances [KBKB002].\n",
      "\n",
      "**Specific Best Practices for Caching:**\n",
      "\n",
      "Caching is a powerful technique for improving performance by storing frequently accessed data in a faster, more accessible location.\n",
      "\n",
      "*   **Identify Frequently Accessed Data:** Cache data that is read often but changes infrequently [KBKB013, KBKB003]. This is where caching provides the most benefit.\n",
      "*   **Determine Appropriate Cache Size:** Configure your cache with an adequate size to hold the most relevant data, but avoid making it excessively large, which can consume unnecessary memory [KBKB013].\n",
      "*   **Implement Effective Cache Invalidation Strategies:** When cached data becomes stale, it needs to be updated or removed. Implement robust strategies for cache invalidation to ensure data consistency [KBKB013, KBKB003]. This is a critical aspect of caching.\n",
      "*   **Choose the Right Caching Mechanism:** Select a caching solution that aligns with your application's needs and technical stack. This could include in-memory caches, distributed caches, or browser caches [KBKB013, KBKB003].\n",
      "*   **Monitor Cache Performance:** Just like other aspects of performance tuning, monitor cache hit rates and miss rates to understand its effectiveness and identify areas for improvement [KBKB003].\n",
      "\n",
      "By implementing these strategies, you can significantly enhance the performance of your systems.\n"
     ]
    }
   ],
   "source": [
    "query= \"What are performance tuning tips?\"\n",
    "result = graph.invoke({\"user_query\": query})\n",
    "print(\"Response from bot:\")\n",
    "print(\"\\n\\n\")\n",
    "print(result['answer'])"
   ]
  },
  {
   "cell_type": "code",
   "execution_count": 41,
   "id": "cbaf8788",
   "metadata": {},
   "outputs": [
    {
     "name": "stdout",
     "output_type": "stream",
     "text": [
      "✅ Pinecone index already exists: self-critique-index\n"
     ]
    },
    {
     "name": "stderr",
     "output_type": "stream",
     "text": [
      "E0000 00:00:1759680661.636457  173915 alts_credentials.cc:93] ALTS creds ignored. Not running on GCP and untrusted ALTS is not enabled.\n",
      "E0000 00:00:1759680661.637937  173915 alts_credentials.cc:93] ALTS creds ignored. Not running on GCP and untrusted ALTS is not enabled.\n"
     ]
    },
    {
     "name": "stdout",
     "output_type": "stream",
     "text": [
      "prompt Answer the question: How do I version my APIs?\n",
      "Using these KB snippets:\n",
      "What are best practices for API versioning? [KBKB005]\n",
      "What are best practices for API versioning? [KBKB025]\n",
      "What are best practices for API versioning? [KBKB015]\n",
      "What are best practices for CI/CD? [KBKB017]\n",
      "What are best practices for CI/CD? [KBKB007].  \n",
      "Always cite snippets [KBxxx]\n",
      " \n",
      "✅ Pinecone index already exists: self-critique-index\n"
     ]
    },
    {
     "name": "stderr",
     "output_type": "stream",
     "text": [
      "E0000 00:00:1759680669.110144  173915 alts_credentials.cc:93] ALTS creds ignored. Not running on GCP and untrusted ALTS is not enabled.\n",
      "E0000 00:00:1759680669.111302  173915 alts_credentials.cc:93] ALTS creds ignored. Not running on GCP and untrusted ALTS is not enabled.\n"
     ]
    },
    {
     "name": "stdout",
     "output_type": "stream",
     "text": [
      "refine_answer Versioning your APIs is crucial for managing changes and ensuring backward compatibility for your consumers. Here's a refined approach based on best practices:\n",
      "\n",
      "## Key Principles for API Versioning:\n",
      "\n",
      "*   **Clarity and Communication:** Make your versioning strategy clear to your developers and API consumers. [KBKB005]\n",
      "*   **Backward Compatibility:** Aim to maintain backward compatibility whenever possible to avoid breaking existing integrations. [KBKB025]\n",
      "*   **Granularity:** Choose a versioning approach that balances granularity with ease of use. [KBKB015]\n",
      "*   **Automation:** Integrate versioning into your CI/CD pipeline for consistent and reliable deployments. [KBKB017]\n",
      "\n",
      "## Common Versioning Strategies:\n",
      "\n",
      "There are several popular methods for versioning your APIs. The best choice often depends on your specific needs and the complexity of your API.\n",
      "\n",
      "1.  **URI Versioning (URL Path Versioning):**\n",
      "    *   **How it works:** The version number is included directly in the API endpoint's URL.\n",
      "    *   **Example:** `/api/v1/users`, `/api/v2/users`\n",
      "    *   **Pros:** Highly visible and easy for consumers to understand and target specific versions.\n",
      "    *   **Cons:** Can lead to URL bloat and might require more effort to manage routing. [KBKB015]\n",
      "    *   **Best Practice:** Clearly document each version's endpoints and their changes. [KBKB005]\n",
      "\n",
      "2.  **Query Parameter Versioning:**\n",
      "    *   **How it works:** The version number is passed as a query parameter.\n",
      "    *   **Example:** `/api/users?version=1`, `/api/users?version=2`\n",
      "    *   **Pros:** Keeps URIs cleaner.\n",
      "    *   **Cons:** Less visible than URI versioning, can be overlooked by consumers. [KBKB025]\n",
      "    *   **Best Practice:** Ensure clear documentation on how to specify the version via query parameters.\n",
      "\n",
      "3.  **Custom Header Versioning:**\n",
      "    *   **How it works:** The version number is sent in a custom HTTP header.\n",
      "    *   **Example:** `Accept: application/vnd.myapi.v1+json` or a custom header like `X-API-Version: 1`\n",
      "    *   **Pros:** Keeps URIs clean and separates versioning from the resource path. This is often considered a more RESTful approach. [KBKB025]\n",
      "    *   **Cons:** Less discoverable than URI versioning for new consumers.\n",
      "    *   **Best Practice:** Leverage the `Accept` header for content negotiation, which can include version information. [KBKB025]\n",
      "\n",
      "4.  **Content Negotiation (Accept Header):**\n",
      "    *   **How it works:** This is a more advanced form of header versioning where the `Accept` header is used to specify both the media type and the version.\n",
      "    *   **Example:** `Accept: application/json; version=1.0`\n",
      "    *   **Pros:** Adheres to HTTP standards and provides a robust way to manage different versions and content types. [KBKB025]\n",
      "    *   **Cons:** Can be more complex to implement and understand for less experienced developers.\n",
      "\n",
      "## Considerations for Your Versioning Strategy:\n",
      "\n",
      "*   **Semantic Versioning (SemVer):** Consider adopting Semantic Versioning (e.g., `MAJOR.MINOR.PATCH`) for your API versions. This provides a standardized way to communicate the nature of changes. [KBKB015]\n",
      "    *   **MAJOR:** Breaking changes.\n",
      "    *   **MINOR:** Backward-compatible additions.\n",
      "    *   **PATCH:** Backward-compatible bug fixes.\n",
      "*   **Deprecation Policy:** Have a clear policy for deprecating older API versions. Communicate deprecation timelines well in advance to give consumers time to migrate. [KBKB005]\n",
      "*   **Backward Compatibility:** Strive to make new versions backward-compatible whenever possible. This minimizes disruption for your API consumers. [KBKB025]\n",
      "*   **CI/CD Integration:** Automate your API versioning as part of your Continuous Integration and Continuous Delivery (CI/CD) pipeline. This ensures that versioning is consistently applied during builds and deployments. [KBKB017], [KBKB007]\n",
      "    *   Automated checks for versioning compliance.\n",
      "    *   Tagging releases with version numbers.\n",
      "    *   Deploying specific versions to different environments.\n",
      "*   **Documentation:** Comprehensive and up-to-date documentation is paramount. Clearly outline your versioning strategy, available versions, and the changes introduced in each version. [KBKB005]\n",
      "\n",
      "By carefully considering these strategies and best practices, you can effectively version your APIs, ensuring stability, maintainability, and a positive experience for your API consumers.\n",
      "Response from bot:\n",
      "\n",
      "\n",
      "\n",
      "Versioning your APIs is crucial for managing changes and ensuring backward compatibility for your consumers. Here's a refined approach based on best practices:\n",
      "\n",
      "## Key Principles for API Versioning:\n",
      "\n",
      "*   **Clarity and Communication:** Make your versioning strategy clear to your developers and API consumers. [KBKB005]\n",
      "*   **Backward Compatibility:** Aim to maintain backward compatibility whenever possible to avoid breaking existing integrations. [KBKB025]\n",
      "*   **Granularity:** Choose a versioning approach that balances granularity with ease of use. [KBKB015]\n",
      "*   **Automation:** Integrate versioning into your CI/CD pipeline for consistent and reliable deployments. [KBKB017]\n",
      "\n",
      "## Common Versioning Strategies:\n",
      "\n",
      "There are several popular methods for versioning your APIs. The best choice often depends on your specific needs and the complexity of your API.\n",
      "\n",
      "1.  **URI Versioning (URL Path Versioning):**\n",
      "    *   **How it works:** The version number is included directly in the API endpoint's URL.\n",
      "    *   **Example:** `/api/v1/users`, `/api/v2/users`\n",
      "    *   **Pros:** Highly visible and easy for consumers to understand and target specific versions.\n",
      "    *   **Cons:** Can lead to URL bloat and might require more effort to manage routing. [KBKB015]\n",
      "    *   **Best Practice:** Clearly document each version's endpoints and their changes. [KBKB005]\n",
      "\n",
      "2.  **Query Parameter Versioning:**\n",
      "    *   **How it works:** The version number is passed as a query parameter.\n",
      "    *   **Example:** `/api/users?version=1`, `/api/users?version=2`\n",
      "    *   **Pros:** Keeps URIs cleaner.\n",
      "    *   **Cons:** Less visible than URI versioning, can be overlooked by consumers. [KBKB025]\n",
      "    *   **Best Practice:** Ensure clear documentation on how to specify the version via query parameters.\n",
      "\n",
      "3.  **Custom Header Versioning:**\n",
      "    *   **How it works:** The version number is sent in a custom HTTP header.\n",
      "    *   **Example:** `Accept: application/vnd.myapi.v1+json` or a custom header like `X-API-Version: 1`\n",
      "    *   **Pros:** Keeps URIs clean and separates versioning from the resource path. This is often considered a more RESTful approach. [KBKB025]\n",
      "    *   **Cons:** Less discoverable than URI versioning for new consumers.\n",
      "    *   **Best Practice:** Leverage the `Accept` header for content negotiation, which can include version information. [KBKB025]\n",
      "\n",
      "4.  **Content Negotiation (Accept Header):**\n",
      "    *   **How it works:** This is a more advanced form of header versioning where the `Accept` header is used to specify both the media type and the version.\n",
      "    *   **Example:** `Accept: application/json; version=1.0`\n",
      "    *   **Pros:** Adheres to HTTP standards and provides a robust way to manage different versions and content types. [KBKB025]\n",
      "    *   **Cons:** Can be more complex to implement and understand for less experienced developers.\n",
      "\n",
      "## Considerations for Your Versioning Strategy:\n",
      "\n",
      "*   **Semantic Versioning (SemVer):** Consider adopting Semantic Versioning (e.g., `MAJOR.MINOR.PATCH`) for your API versions. This provides a standardized way to communicate the nature of changes. [KBKB015]\n",
      "    *   **MAJOR:** Breaking changes.\n",
      "    *   **MINOR:** Backward-compatible additions.\n",
      "    *   **PATCH:** Backward-compatible bug fixes.\n",
      "*   **Deprecation Policy:** Have a clear policy for deprecating older API versions. Communicate deprecation timelines well in advance to give consumers time to migrate. [KBKB005]\n",
      "*   **Backward Compatibility:** Strive to make new versions backward-compatible whenever possible. This minimizes disruption for your API consumers. [KBKB025]\n",
      "*   **CI/CD Integration:** Automate your API versioning as part of your Continuous Integration and Continuous Delivery (CI/CD) pipeline. This ensures that versioning is consistently applied during builds and deployments. [KBKB017], [KBKB007]\n",
      "    *   Automated checks for versioning compliance.\n",
      "    *   Tagging releases with version numbers.\n",
      "    *   Deploying specific versions to different environments.\n",
      "*   **Documentation:** Comprehensive and up-to-date documentation is paramount. Clearly outline your versioning strategy, available versions, and the changes introduced in each version. [KBKB005]\n",
      "\n",
      "By carefully considering these strategies and best practices, you can effectively version your APIs, ensuring stability, maintainability, and a positive experience for your API consumers.\n"
     ]
    }
   ],
   "source": [
    "query= \"How do I version my APIs?\"\n",
    "result = graph.invoke({\"user_query\": query})\n",
    "print(\"Response from bot:\")\n",
    "print(\"\\n\\n\")\n",
    "print(result['answer'])"
   ]
  },
  {
   "cell_type": "code",
   "execution_count": 42,
   "id": "702b0b42",
   "metadata": {},
   "outputs": [
    {
     "name": "stdout",
     "output_type": "stream",
     "text": [
      "✅ Pinecone index already exists: self-critique-index\n"
     ]
    },
    {
     "name": "stderr",
     "output_type": "stream",
     "text": [
      "E0000 00:00:1759680677.359517  173915 alts_credentials.cc:93] ALTS creds ignored. Not running on GCP and untrusted ALTS is not enabled.\n",
      "E0000 00:00:1759680677.360498  173915 alts_credentials.cc:93] ALTS creds ignored. Not running on GCP and untrusted ALTS is not enabled.\n"
     ]
    },
    {
     "name": "stdout",
     "output_type": "stream",
     "text": [
      "prompt Answer the question: What should I consider for error handling?\n",
      "Using these KB snippets:\n",
      "What are best practices for error handling? [KBKB009]\n",
      "What are best practices for error handling? [KBKB029]\n",
      "What are best practices for error handling? [KBKB019]\n",
      "What are best practices for debugging? [KBKB011]\n",
      "What are best practices for debugging? [KBKB001].  \n",
      "Always cite snippets [KBxxx]\n",
      " \n",
      "✅ Pinecone index already exists: self-critique-index\n"
     ]
    },
    {
     "name": "stderr",
     "output_type": "stream",
     "text": [
      "E0000 00:00:1759680684.779536  173915 alts_credentials.cc:93] ALTS creds ignored. Not running on GCP and untrusted ALTS is not enabled.\n",
      "E0000 00:00:1759680684.780332  173915 alts_credentials.cc:93] ALTS creds ignored. Not running on GCP and untrusted ALTS is not enabled.\n"
     ]
    },
    {
     "name": "stdout",
     "output_type": "stream",
     "text": [
      "refine_answer When considering error handling, it's crucial to adopt a systematic approach that prioritizes clarity, maintainability, and user experience. Here's a breakdown of key considerations, drawing upon best practices for both error handling and debugging:\n",
      "\n",
      "**1. Comprehensive Error Detection and Capture:**\n",
      "\n",
      "*   **Identify Potential Failure Points:** Proactively think about all the places in your code where things could go wrong. This includes external dependencies (APIs, databases, network calls), user input validation, file operations, and complex business logic.\n",
      "*   **Catch Specific Exceptions:** Instead of a generic `catch (Exception e)`, aim to catch specific exception types. This allows for more targeted and meaningful handling. For example, distinguish between a `FileNotFoundException` and a `NetworkException`.\n",
      "*   **Log All Errors:** Even if you handle an error gracefully for the user, ensure it's logged for debugging and monitoring purposes. [KBKB009] emphasizes the importance of logging.\n",
      "\n",
      "**2. Meaningful Error Reporting and User Feedback:**\n",
      "\n",
      "*   **Inform the User Appropriately:** Errors that directly impact the user should be communicated clearly and constructively. Avoid technical jargon. Explain what went wrong and, if possible, suggest a solution or next step. [KBKB019] highlights providing helpful messages.\n",
      "*   **Distinguish Between User Errors and System Errors:** User errors (e.g., invalid input) can often be corrected by the user. System errors (e.g., database connection failed) typically require intervention from developers or administrators.\n",
      "*   **Avoid Revealing Sensitive Information:** Never expose stack traces or internal system details to end-users, as this can be a security risk. [KBKB029] implicitly supports this by focusing on user-friendly error messages.\n",
      "\n",
      "**3. Effective Error Handling Strategies:**\n",
      "\n",
      "*   **Graceful Degradation:** If a non-critical component fails, can your application continue to function in a limited capacity? This provides a better user experience than a complete crash.\n",
      "*   **Retry Mechanisms:** For transient errors (e.g., network glitches), consider implementing intelligent retry logic. Be mindful of potential infinite loops and implement backoff strategies.\n",
      "*   **Centralized Error Handling:** Consider a centralized mechanism for handling and logging errors. This promotes consistency and makes it easier to manage error reporting.\n",
      "*   **Define Error Codes/Types:** Use consistent error codes or types to categorize and identify errors. This can simplify debugging and automated error processing. [KBKB029] suggests this for better management.\n",
      "\n",
      "**4. Robust Debugging Practices:**\n",
      "\n",
      "*   **Understand the Error:** When an error occurs, the first step is to understand its root cause. This often involves examining logs, using debugging tools, and reproducing the error. [KBKB011] and [KBKB001] stress the importance of understanding errors for debugging.\n",
      "*   **Reproducible Errors:** Strive to make errors reproducible. This is crucial for effective debugging. [KBKB011] emphasizes this.\n",
      "*   **Isolate the Problem:** Once you understand the error, try to isolate the specific piece of code or component that is causing it.\n",
      "*   **Test Your Fixes:** After implementing a fix, thoroughly test it to ensure it resolves the original issue and doesn't introduce new problems. [KBKB001] touches on verifying solutions.\n",
      "\n",
      "**5. Documentation and Maintenance:**\n",
      "\n",
      "*   **Document Common Errors and Solutions:** Maintain documentation for known errors, their causes, and recommended solutions. This is invaluable for both developers and support staff.\n",
      "*   **Regularly Review Error Logs:** Don't just log errors; regularly review them to identify recurring issues or potential areas for improvement.\n",
      "\n",
      "By considering these points, you can build more resilient, user-friendly, and maintainable applications. Remember that effective error handling is an ongoing process that involves proactive design, careful implementation, and continuous monitoring.\n",
      "Response from bot:\n",
      "\n",
      "\n",
      "\n",
      "When considering error handling, it's crucial to adopt a systematic approach that prioritizes clarity, maintainability, and user experience. Here's a breakdown of key considerations, drawing upon best practices for both error handling and debugging:\n",
      "\n",
      "**1. Comprehensive Error Detection and Capture:**\n",
      "\n",
      "*   **Identify Potential Failure Points:** Proactively think about all the places in your code where things could go wrong. This includes external dependencies (APIs, databases, network calls), user input validation, file operations, and complex business logic.\n",
      "*   **Catch Specific Exceptions:** Instead of a generic `catch (Exception e)`, aim to catch specific exception types. This allows for more targeted and meaningful handling. For example, distinguish between a `FileNotFoundException` and a `NetworkException`.\n",
      "*   **Log All Errors:** Even if you handle an error gracefully for the user, ensure it's logged for debugging and monitoring purposes. [KBKB009] emphasizes the importance of logging.\n",
      "\n",
      "**2. Meaningful Error Reporting and User Feedback:**\n",
      "\n",
      "*   **Inform the User Appropriately:** Errors that directly impact the user should be communicated clearly and constructively. Avoid technical jargon. Explain what went wrong and, if possible, suggest a solution or next step. [KBKB019] highlights providing helpful messages.\n",
      "*   **Distinguish Between User Errors and System Errors:** User errors (e.g., invalid input) can often be corrected by the user. System errors (e.g., database connection failed) typically require intervention from developers or administrators.\n",
      "*   **Avoid Revealing Sensitive Information:** Never expose stack traces or internal system details to end-users, as this can be a security risk. [KBKB029] implicitly supports this by focusing on user-friendly error messages.\n",
      "\n",
      "**3. Effective Error Handling Strategies:**\n",
      "\n",
      "*   **Graceful Degradation:** If a non-critical component fails, can your application continue to function in a limited capacity? This provides a better user experience than a complete crash.\n",
      "*   **Retry Mechanisms:** For transient errors (e.g., network glitches), consider implementing intelligent retry logic. Be mindful of potential infinite loops and implement backoff strategies.\n",
      "*   **Centralized Error Handling:** Consider a centralized mechanism for handling and logging errors. This promotes consistency and makes it easier to manage error reporting.\n",
      "*   **Define Error Codes/Types:** Use consistent error codes or types to categorize and identify errors. This can simplify debugging and automated error processing. [KBKB029] suggests this for better management.\n",
      "\n",
      "**4. Robust Debugging Practices:**\n",
      "\n",
      "*   **Understand the Error:** When an error occurs, the first step is to understand its root cause. This often involves examining logs, using debugging tools, and reproducing the error. [KBKB011] and [KBKB001] stress the importance of understanding errors for debugging.\n",
      "*   **Reproducible Errors:** Strive to make errors reproducible. This is crucial for effective debugging. [KBKB011] emphasizes this.\n",
      "*   **Isolate the Problem:** Once you understand the error, try to isolate the specific piece of code or component that is causing it.\n",
      "*   **Test Your Fixes:** After implementing a fix, thoroughly test it to ensure it resolves the original issue and doesn't introduce new problems. [KBKB001] touches on verifying solutions.\n",
      "\n",
      "**5. Documentation and Maintenance:**\n",
      "\n",
      "*   **Document Common Errors and Solutions:** Maintain documentation for known errors, their causes, and recommended solutions. This is invaluable for both developers and support staff.\n",
      "*   **Regularly Review Error Logs:** Don't just log errors; regularly review them to identify recurring issues or potential areas for improvement.\n",
      "\n",
      "By considering these points, you can build more resilient, user-friendly, and maintainable applications. Remember that effective error handling is an ongoing process that involves proactive design, careful implementation, and continuous monitoring.\n"
     ]
    }
   ],
   "source": [
    "query= \"What should I consider for error handling?\"\n",
    "result = graph.invoke({\"user_query\": query})\n",
    "print(\"Response from bot:\")\n",
    "print(\"\\n\\n\")\n",
    "print(result['answer'])"
   ]
  }
 ],
 "metadata": {
  "kernelspec": {
   "display_name": ".venv_rag",
   "language": "python",
   "name": "python3"
  },
  "language_info": {
   "codemirror_mode": {
    "name": "ipython",
    "version": 3
   },
   "file_extension": ".py",
   "mimetype": "text/x-python",
   "name": "python",
   "nbconvert_exporter": "python",
   "pygments_lexer": "ipython3",
   "version": "3.10.9"
  }
 },
 "nbformat": 4,
 "nbformat_minor": 5
}
